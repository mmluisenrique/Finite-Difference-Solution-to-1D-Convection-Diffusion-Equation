{
 "cells": [
  {
   "cell_type": "code",
   "execution_count": 1,
   "metadata": {
    "collapsed": true
   },
   "outputs": [],
   "source": [
    "import matplotlib as mpl\n",
    "import numpy as np\n",
    "import pandas as pd\n",
    "import CoolProp.CoolProp as CP\n",
    "import nlopt\n",
    "from scipy import stats, optimize\n",
    "from sklearn import linear_model\n",
    "mpl.use('TkAgg')\n",
    "import matplotlib.pyplot as plt\n",
    "from tridag import *\n",
    "######################################################################\n",
    "# Plot configurations\n",
    "# mpl.style.use('classic')\n",
    "mpl.rcParams['lines.linewidth'] = 1.0\n",
    "mpl.rcParams['lines.dashed_pattern'] = [6, 6]\n",
    "mpl.rcParams['lines.dashdot_pattern'] = [3, 5, 1, 5]\n",
    "mpl.rcParams['lines.dotted_pattern'] = [1, 3]\n",
    "mpl.rcParams['lines.scale_dashes'] = False\n",
    "\n",
    "mpl.rcParams['grid.color'] = 'k'\n",
    "mpl.rcParams['grid.linestyle'] = ':'\n",
    "mpl.rcParams['grid.linewidth'] = 0.5\n",
    "\n",
    "mpl.rcParams['axes.autolimit_mode'] = 'round_numbers'\n",
    "mpl.rcParams['axes.xmargin'] = 0\n",
    "mpl.rcParams['axes.ymargin'] = 0\n",
    "######################################################################\n",
    "%matplotlib inline"
   ]
  },
  {
   "cell_type": "code",
   "execution_count": 2,
   "metadata": {
    "collapsed": true
   },
   "outputs": [],
   "source": [
    "bc      = np.rec.array([(1.), (0.)], \n",
    "          dtype=[('bcL','float64'), ('bcR','float64'),])\n",
    "\n",
    "numpar  = np.rec.array([(1000), (10), (3.5), (0), (0), (0), (0)], \n",
    "          dtype=[('nx','int64'), ('alfa1','float64'), ('tstop','float64'), \n",
    "                ('dx','float64'), ('dt','float64'),\n",
    "                ('alfa3','float64'), ('nt','int64'),])\n",
    "\n",
    "physpar = np.rec.array([(142.64)], \n",
    "          dtype=[('peclet','float64')])\n",
    "\n",
    "varspatial  = np.rec.array([(np.zeros([numpar.nx,1])), (np.zeros([numpar.nx,1]))], \n",
    "          dtype=[('c_old','float64'), ('c','float64'), ])\n",
    "\n",
    "\n",
    "\n",
    "numpar.dx      = 1/float(numpar.nx)\n",
    "numpar.dt      = numpar.alfa1*numpar.dx\n",
    "numpar.alfa3   = numpar.dt/(physpar.peclet*(numpar.dx**2))\n",
    "numpar.nt      = int(numpar.tstop/numpar.dt)#+1e-6 \n",
    "\n",
    "pv = np.arange(0.0, numpar.tstop+numpar.dt, numpar.dt)\n",
    "vartemporal = np.rec.array([(pv), (np.zeros([len(pv)])), (np.zeros([len(pv)]))], \n",
    "          dtype=[('pv','float64'), ('cout','float64'),('time','float64') ])\n"
   ]
  },
  {
   "cell_type": "code",
   "execution_count": 3,
   "metadata": {
    "collapsed": true
   },
   "outputs": [],
   "source": [
    "c = np.zeros([numpar.nx,1]) \n",
    "a = np.zeros([numpar.nx,3])\n",
    "b = np.zeros([numpar.nx,1])\n",
    "\n",
    "a[:,0]=-(numpar.alfa1+numpar.alfa3);\n",
    "a[:,1]=1+numpar.alfa1+2*numpar.alfa3;\n",
    "a[0,1]=1+numpar.alfa1+3*numpar.alfa3;\n",
    "a[numpar.nx-1,1]=1+numpar.alfa1+numpar.alfa3;\n",
    "a[:,2]=-numpar.alfa3;"
   ]
  },
  {
   "cell_type": "code",
   "execution_count": 4,
   "metadata": {
    "collapsed": true
   },
   "outputs": [],
   "source": [
    "pv = np.arange(0.0, numpar.tstop+numpar.dt, numpar.dt)\n",
    "cout=np.zeros([len(pv),1])\n",
    "cout[0,0]=0\n",
    "t = 0\n",
    "\n",
    "for j in range(0,numpar.nt):\n",
    "    b=varspatial.c\n",
    "    b[0,0]=b[0,0]+(numpar.alfa1+2*numpar.alfa3)*bc.bcL\n",
    "    varspatial.c=tridag(a,b,numpar.nx)\n",
    "    \n",
    "    vartemporal.cout[j+1]=varspatial.c[numpar.nx-1,0]\n",
    "    vartemporal.time[j+1]=vartemporal.time[j]+numpar.dt"
   ]
  },
  {
   "cell_type": "code",
   "execution_count": 7,
   "metadata": {},
   "outputs": [
    {
     "data": {
      "text/plain": [
       "<function matplotlib.pyplot.tight_layout>"
      ]
     },
     "execution_count": 7,
     "metadata": {},
     "output_type": "execute_result"
    },
    {
     "data": {
      "image/png": "[encoded data removed]",
      "text/plain": [
       "<Figure size 432x288 with 1 Axes>"
      ]
     },
     "metadata": {},
     "output_type": "display_data"
    }
   ],
   "source": [
    "plt.plot(vartemporal.pv,vartemporal.cout,label='numerical solution')\n",
    "plt.xlabel('pore volume [-]')\n",
    "plt.ylabel('concentration [-]')\n",
    "plt.legend()\n",
    "plt.grid()\n",
    "plt.tight_layout"
   ]
  },
  {
   "cell_type": "code",
   "execution_count": null,
   "metadata": {
    "collapsed": true
   },
   "outputs": [],
   "source": []
  }
 ],
 "metadata": {
  "kernelspec": {
   "display_name": "Python 2",
   "language": "python",
   "name": "python2"
  },
  "language_info": {
   "codemirror_mode": {
    "name": "ipython",
    "version": 2
   },
   "file_extension": ".py",
   "mimetype": "text/x-python",
   "name": "python",
   "nbconvert_exporter": "python",
   "pygments_lexer": "ipython2",
   "version": "2.7.14"
  }
 },
 "nbformat": 4,
 "nbformat_minor": 2
}
